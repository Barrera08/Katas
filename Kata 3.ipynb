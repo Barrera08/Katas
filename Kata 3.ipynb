{
 "cells": [
  {
   "cell_type": "markdown",
   "metadata": {},
   "source": [
    "# Kata 3"
   ]
  },
  {
   "cell_type": "code",
   "execution_count": 4,
   "metadata": {},
   "outputs": [
    {
     "name": "stdout",
     "output_type": "stream",
     "text": [
      "Prepárate, se acerca un asteroide monumental\n"
     ]
    }
   ],
   "source": [
    "Asteroide = 49\n",
    "if Asteroide > 25:\n",
    "    print(\"Prepárate, se acerca un asteroide monumental\")\n",
    "else:\n",
    "    print(\"No pasa nada\")\n"
   ]
  },
  {
   "cell_type": "code",
   "execution_count": 5,
   "metadata": {},
   "outputs": [
    {
     "name": "stdout",
     "output_type": "stream",
     "text": [
      "Sigue tu camino\n"
     ]
    }
   ],
   "source": [
    "Asteroide = 19\n",
    "if Asteroide > 25:\n",
    "    print(\"Mira arriba y sorpréndete\")\n",
    "elif Asteroide == 25:\n",
    "    print(\"Mira el cielo y tal vez veas algo hermoso\")\n",
    "else:\n",
    "    print(\"Sigue tu camino\")\n"
   ]
  },
  {
   "cell_type": "code",
   "execution_count": 6,
   "metadata": {},
   "outputs": [
    {
     "name": "stdout",
     "output_type": "stream",
     "text": [
      "¡Mira! una estrella fugaz\n"
     ]
    }
   ],
   "source": [
    "Vel_Asteroide = 25\n",
    "Tam_Asteroide = 30\n",
    "if Vel_Asteroide > 25 and Tam_Asteroide > 25:\n",
    "    print(\"Corre a protegerte, un asteroide enorme se impactará en tu casa\")\n",
    "elif Vel_Asteroide >= 20:\n",
    "    print(\"¡Mira! una estrella fugaz\")\n",
    "elif Tam_Asteroide < 25:\n",
    "    print(\"Sigue tu camino\")\n",
    "else:\n",
    "    print(\"Sigue tu camino\")\n",
    "    "
   ]
  }
 ],
 "metadata": {
  "interpreter": {
   "hash": "f93175da69b3f10f997f04267fd1a84e4114b0d67bf68a284cfc44f2ff9048ab"
  },
  "kernelspec": {
   "display_name": "Python 3.10.2 64-bit (windows store)",
   "language": "python",
   "name": "python3"
  },
  "language_info": {
   "codemirror_mode": {
    "name": "ipython",
    "version": 3
   },
   "file_extension": ".py",
   "mimetype": "text/x-python",
   "name": "python",
   "nbconvert_exporter": "python",
   "pygments_lexer": "ipython3",
   "version": "3.10.2"
  },
  "orig_nbformat": 4
 },
 "nbformat": 4,
 "nbformat_minor": 2
}
